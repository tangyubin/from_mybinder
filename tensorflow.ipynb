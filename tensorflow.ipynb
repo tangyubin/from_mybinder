{
 "cells": [
  {
   "cell_type": "code",
   "execution_count": 1,
   "metadata": {},
   "outputs": [],
   "source": [
    "import tensorflow as tf"
   ]
  },
  {
   "cell_type": "code",
   "execution_count": 2,
   "metadata": {},
   "outputs": [
    {
     "name": "stdout",
     "output_type": "stream",
     "text": [
      "WARNING:tensorflow:From /srv/conda/lib/python3.6/site-packages/tensorflow/python/framework/op_def_library.py:263: colocate_with (from tensorflow.python.framework.ops) is deprecated and will be removed in a future version.\n",
      "Instructions for updating:\n",
      "Colocations handled automatically by placer.\n"
     ]
    }
   ],
   "source": [
    "export_path = \"./half_plus_two\"\n",
    "sess = tf.InteractiveSession()\n",
    "a = tf.Variable(0.5)\n",
    "b = tf.Variable(2.0)\n",
    "uid = tf.placeholder(tf.int32, [None, 1], name='uid')\n",
    "user_gender = tf.placeholder(tf.int32, [None, 1], name='user_gender')\n",
    "user_age = tf.placeholder(tf.int32, [None, 1], name='user_age')\n",
    "user_job = tf.placeholder(tf.int32, [None, 1], name='user_job')\n",
    "movie_id = tf.placeholder(tf.int32, [None, 1], name='movie_id')\n",
    "movie_categories = tf.placeholder(tf.int32, [None, 18], name='movie_categories')\n",
    "movie_titles = tf.placeholder(tf.int32, [None, 15], name='movie_titles')\n",
    "\n",
    "y = tf.add(uid, user_age)"
   ]
  },
  {
   "cell_type": "code",
   "execution_count": 3,
   "metadata": {},
   "outputs": [],
   "source": [
    "sess.run(tf.global_variables_initializer())"
   ]
  },
  {
   "cell_type": "code",
   "execution_count": 4,
   "metadata": {},
   "outputs": [
    {
     "data": {
      "text/plain": [
       "array([[10]], dtype=int32)"
      ]
     },
     "execution_count": 4,
     "metadata": {},
     "output_type": "execute_result"
    }
   ],
   "source": [
    "sess.run(y, feed_dict={uid:[[3]], user_age:[[7]], user_gender:[[1]]})"
   ]
  },
  {
   "cell_type": "code",
   "execution_count": 6,
   "metadata": {},
   "outputs": [],
   "source": [
    "builder = tf.saved_model.builder.SavedModelBuilder(export_path)"
   ]
  },
  {
   "cell_type": "code",
   "execution_count": 7,
   "metadata": {},
   "outputs": [
    {
     "name": "stdout",
     "output_type": "stream",
     "text": [
      "WARNING:tensorflow:From <ipython-input-7-875a958a93e3>:1: build_tensor_info (from tensorflow.python.saved_model.utils_impl) is deprecated and will be removed in a future version.\n",
      "Instructions for updating:\n",
      "This function will only be available through the v1 compatibility library as tf.compat.v1.saved_model.utils.build_tensor_info or tf.compat.v1.saved_model.build_tensor_info.\n"
     ]
    }
   ],
   "source": [
    "tensor_info_y = tf.saved_model.utils.build_tensor_info(y)"
   ]
  },
  {
   "cell_type": "code",
   "execution_count": 9,
   "metadata": {},
   "outputs": [],
   "source": [
    "tensor_info_uid = tf.saved_model.utils.build_tensor_info(uid)\n",
    "tensor_info_user_gender = tf.saved_model.utils.build_tensor_info(user_gender)\n",
    "tensor_info_user_age = tf.saved_model.utils.build_tensor_info(user_age)\n",
    "tensor_info_user_job = tf.saved_model.utils.build_tensor_info(user_job)\n",
    "tensor_info_movie_id = tf.saved_model.utils.build_tensor_info(movie_id)\n",
    "tensor_info_movie_categories = tf.saved_model.utils.build_tensor_info(movie_categories)\n",
    "tensor_info_movie_titles = tf.saved_model.utils.build_tensor_info(movie_titles)"
   ]
  },
  {
   "cell_type": "code",
   "execution_count": 10,
   "metadata": {},
   "outputs": [],
   "source": [
    "prediction_signature = (\n",
    "    tf.saved_model.signature_def_utils.build_signature_def(\n",
    "        inputs = {'uid':tensor_info_uid, \n",
    "                  'user_gender':tensor_info_user_gender,\n",
    "                  'user_age':tensor_info_user_age,\n",
    "                  'user_job':tensor_info_user_job,\n",
    "                  'movie_id':tensor_info_movie_id,\n",
    "                  'movie_categories':tensor_info_movie_categories,\n",
    "                  'movie_titles':tensor_info_movie_titles},\n",
    "        outputs = {'y':tensor_info_y},\n",
    "        method_name = tf.saved_model.signature_constants.PREDICT_METHOD_NAME\n",
    "    )\n",
    ")"
   ]
  },
  {
   "cell_type": "code",
   "execution_count": 11,
   "metadata": {},
   "outputs": [
    {
     "name": "stdout",
     "output_type": "stream",
     "text": [
      "INFO:tensorflow:No assets to save.\n",
      "INFO:tensorflow:No assets to write.\n"
     ]
    }
   ],
   "source": [
    "builder.add_meta_graph_and_variables(\n",
    "    sess, [tf.saved_model.tag_constants.SERVING],\n",
    "    signature_def_map={\n",
    "        tf.saved_model.signature_constants.DEFAULT_SERVING_SIGNATURE_DEF_KEY:\n",
    "           prediction_signature \n",
    "    },\n",
    "    main_op=tf.tables_initializer(),\n",
    "    strip_default_attrs=True\n",
    ")"
   ]
  },
  {
   "cell_type": "code",
   "execution_count": 12,
   "metadata": {},
   "outputs": [
    {
     "name": "stdout",
     "output_type": "stream",
     "text": [
      "INFO:tensorflow:SavedModel written to: ./half_plus_two/saved_model.pb\n"
     ]
    },
    {
     "data": {
      "text/plain": [
       "b'./half_plus_two/saved_model.pb'"
      ]
     },
     "execution_count": 12,
     "metadata": {},
     "output_type": "execute_result"
    }
   ],
   "source": [
    "builder.save()"
   ]
  },
  {
   "cell_type": "code",
   "execution_count": null,
   "metadata": {},
   "outputs": [],
   "source": []
  },
  {
   "cell_type": "code",
   "execution_count": null,
   "metadata": {},
   "outputs": [],
   "source": []
  },
  {
   "cell_type": "code",
   "execution_count": null,
   "metadata": {},
   "outputs": [],
   "source": []
  },
  {
   "cell_type": "code",
   "execution_count": null,
   "metadata": {},
   "outputs": [],
   "source": []
  },
  {
   "cell_type": "code",
   "execution_count": null,
   "metadata": {},
   "outputs": [],
   "source": []
  },
  {
   "cell_type": "code",
   "execution_count": null,
   "metadata": {},
   "outputs": [],
   "source": []
  },
  {
   "cell_type": "code",
   "execution_count": null,
   "metadata": {},
   "outputs": [],
   "source": []
  },
  {
   "cell_type": "code",
   "execution_count": null,
   "metadata": {},
   "outputs": [],
   "source": []
  },
  {
   "cell_type": "code",
   "execution_count": null,
   "metadata": {},
   "outputs": [],
   "source": []
  }
 ],
 "metadata": {
  "kernelspec": {
   "display_name": "Python 3",
   "language": "python",
   "name": "python3"
  },
  "language_info": {
   "codemirror_mode": {
    "name": "ipython",
    "version": 3
   },
   "file_extension": ".py",
   "mimetype": "text/x-python",
   "name": "python",
   "nbconvert_exporter": "python",
   "pygments_lexer": "ipython3",
   "version": "3.6.7"
  }
 },
 "nbformat": 4,
 "nbformat_minor": 2
}
